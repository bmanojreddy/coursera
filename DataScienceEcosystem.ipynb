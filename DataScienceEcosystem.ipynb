{
 "cells": [
  {
   "cell_type": "markdown",
   "id": "da20d318",
   "metadata": {},
   "source": [
    "# Data Science Tools and Ecosystem"
   ]
  },
  {
   "cell_type": "markdown",
   "id": "4f2834a0",
   "metadata": {},
   "source": [
    "In this notebook, Data Science Tools and Ecosystem are summarized"
   ]
  },
  {
   "cell_type": "markdown",
   "id": "21bd535a",
   "metadata": {},
   "source": [
    "Some of the popular languages that Data Scientists use are:\n",
    "1.python\n",
    "2.julia\n",
    "3.R\n",
    "4.Scala"
   ]
  },
  {
   "cell_type": "markdown",
   "id": "1909a529",
   "metadata": {},
   "source": [
    "Some of the commonly used libraries used by Data Scientists include:\n",
    "1.NumPy.\n",
    "2.Keras.\n",
    "3.Pandas.\n",
    "4.PyTorch"
   ]
  },
  {
   "cell_type": "code",
   "execution_count": null,
   "id": "d32ac3ff",
   "metadata": {},
   "outputs": [],
   "source": [
    "| Data Science Tools                                                \n",
    "|------------------\n",
    "| Python           \n",
    "| R               \n",
    "| Jupyter Notebook             "
   ]
  },
  {
   "cell_type": "markdown",
   "id": "1d838c27",
   "metadata": {},
   "source": [
    "### Below are a few examples of evaluating arithmetic expressions in Python"
   ]
  },
  {
   "cell_type": "code",
   "execution_count": 1,
   "id": "a61e3d80",
   "metadata": {},
   "outputs": [
    {
     "data": {
      "text/plain": [
       "17"
      ]
     },
     "execution_count": 1,
     "metadata": {},
     "output_type": "execute_result"
    }
   ],
   "source": [
    "#This a simple arithmetic expression to mutiply then add integers\n",
    "(3*4)+5"
   ]
  },
  {
   "cell_type": "code",
   "execution_count": 2,
   "id": "545492ad",
   "metadata": {},
   "outputs": [
    {
     "name": "stdout",
     "output_type": "stream",
     "text": [
      "3.3333333333333335\n"
     ]
    }
   ],
   "source": [
    "#This will convert 200 minutes to hours by diving by 60\n",
    "minutes=200\n",
    "hours=minutes/60\n",
    "print(hours)"
   ]
  },
  {
   "cell_type": "markdown",
   "id": "4fc14b3a",
   "metadata": {},
   "source": [
    "<strong>Objectives</strong>\n",
    "- List popular languages for Data Science\n",
    "- Arithmetic operation\n",
    "- Data science tools "
   ]
  },
  {
   "cell_type": "markdown",
   "id": "eeee5313",
   "metadata": {},
   "source": [
    "## Author\n",
    "Manoj"
   ]
  },
  {
   "cell_type": "code",
   "execution_count": null,
   "id": "bf93464a",
   "metadata": {},
   "outputs": [],
   "source": []
  }
 ],
 "metadata": {
  "kernelspec": {
   "display_name": "Python 3 (ipykernel)",
   "language": "python",
   "name": "python3"
  },
  "language_info": {
   "codemirror_mode": {
    "name": "ipython",
    "version": 3
   },
   "file_extension": ".py",
   "mimetype": "text/x-python",
   "name": "python",
   "nbconvert_exporter": "python",
   "pygments_lexer": "ipython3",
   "version": "3.9.13"
  }
 },
 "nbformat": 4,
 "nbformat_minor": 5
}
